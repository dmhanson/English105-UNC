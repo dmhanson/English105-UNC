{
 "cells": [
  {
   "cell_type": "markdown",
   "id": "7df46d01-e0f7-42b9-84bb-19c6b8375751",
   "metadata": {},
   "source": [
    "# Violent Crime to Homicide rate Data Subset\n",
    "## Step 1\n",
    "### Import the pandas and numpy enviroments and name them using the following code: \n",
    "**import numpy as np** and **import pandas as pd**. Providing the abbreviated titles makes imputting instructions faster."
   ]
  },
  {
   "cell_type": "code",
   "execution_count": 36,
   "id": "ed12dcaf-96b3-457f-bb17-b97f2afdead4",
   "metadata": {},
   "outputs": [],
   "source": [
    "import numpy as np\n",
    "import pandas as pd"
   ]
  },
  {
   "cell_type": "markdown",
   "id": "c893dc8f-1d85-4f03-9516-c7d7d6884a46",
   "metadata": {},
   "source": [
    "## Step 2\n",
    "### Now we want pandas to read our data file, allowing us to pull data from it, we will use the following code:\n",
    "**df=pd.read_csv(\"CountyHealthData_2014-2015.csv\")**. By doing this, we are defining the input \"df\", as we want panda to read our .csv file."
   ]
  },
  {
   "cell_type": "code",
   "execution_count": 37,
   "id": "10db09e7-669a-4d9b-88f1-275366864921",
   "metadata": {},
   "outputs": [],
   "source": [
    "df=pd.read_csv(\"CountyHealthData_2014-2015.csv\")"
   ]
  },
  {
   "cell_type": "markdown",
   "id": "468509e8-2ec8-41e1-aa34-5d7eacac7470",
   "metadata": {},
   "source": [
    "## Step 3\n",
    "### In order to pull the data allowing the comparision of Violent crime  to the homicide rate in North Carolina, we will first need to isolate the North Carolina state information use the following code:\n",
    "**df2 = df[df[\"State\"] == \"NC\"]**. This function will create a new data function where only cells containing the 'NC' information in the State column will run. "
   ]
  },
  {
   "cell_type": "code",
   "execution_count": 38,
   "id": "a1ceee37-9357-42be-b406-542486a2a8c2",
   "metadata": {},
   "outputs": [],
   "source": [
    "df2 = df[df[\"State\"] == \"NC\"]"
   ]
  },
  {
   "cell_type": "markdown",
   "id": "d1f7e600-f0d9-488e-92a4-0050c49940b4",
   "metadata": {},
   "source": [
    "## Step 4\n",
    "### Now we can isolate and pull the data comparing Violent crime to the homicide rate in North Carolina per County. We will use the following code to extract this information.\n",
    "**df2[[\"State\", \"County\", \"Violent crime\", \"Homicide rate\"]]** This will pull each value we want to see to know which County from the NC data function has violent crime and if homicides happen in that County. "
   ]
  },
  {
   "cell_type": "code",
   "execution_count": 39,
   "id": "c2622ab9-d6c0-4120-9f9f-24f1ffbb43f0",
   "metadata": {},
   "outputs": [
    {
     "data": {
      "text/html": [
       "<div>\n",
       "<style scoped>\n",
       "    .dataframe tbody tr th:only-of-type {\n",
       "        vertical-align: middle;\n",
       "    }\n",
       "\n",
       "    .dataframe tbody tr th {\n",
       "        vertical-align: top;\n",
       "    }\n",
       "\n",
       "    .dataframe thead th {\n",
       "        text-align: right;\n",
       "    }\n",
       "</style>\n",
       "<table border=\"1\" class=\"dataframe\">\n",
       "  <thead>\n",
       "    <tr style=\"text-align: right;\">\n",
       "      <th></th>\n",
       "      <th>State</th>\n",
       "      <th>County</th>\n",
       "      <th>Violent crime</th>\n",
       "      <th>Homicide rate</th>\n",
       "    </tr>\n",
       "  </thead>\n",
       "  <tbody>\n",
       "    <tr>\n",
       "      <th>3243</th>\n",
       "      <td>NC</td>\n",
       "      <td>Alamance County</td>\n",
       "      <td>426.16</td>\n",
       "      <td>4.94</td>\n",
       "    </tr>\n",
       "    <tr>\n",
       "      <th>3244</th>\n",
       "      <td>NC</td>\n",
       "      <td>Alamance County</td>\n",
       "      <td>420.93</td>\n",
       "      <td>4.60</td>\n",
       "    </tr>\n",
       "    <tr>\n",
       "      <th>3245</th>\n",
       "      <td>NC</td>\n",
       "      <td>Alexander County</td>\n",
       "      <td>161.90</td>\n",
       "      <td>6.27</td>\n",
       "    </tr>\n",
       "    <tr>\n",
       "      <th>3246</th>\n",
       "      <td>NC</td>\n",
       "      <td>Alexander County</td>\n",
       "      <td>142.45</td>\n",
       "      <td>7.20</td>\n",
       "    </tr>\n",
       "    <tr>\n",
       "      <th>3247</th>\n",
       "      <td>NC</td>\n",
       "      <td>Alleghany County</td>\n",
       "      <td>NaN</td>\n",
       "      <td>NaN</td>\n",
       "    </tr>\n",
       "    <tr>\n",
       "      <th>...</th>\n",
       "      <td>...</td>\n",
       "      <td>...</td>\n",
       "      <td>...</td>\n",
       "      <td>...</td>\n",
       "    </tr>\n",
       "    <tr>\n",
       "      <th>3438</th>\n",
       "      <td>NC</td>\n",
       "      <td>Wilson County</td>\n",
       "      <td>420.88</td>\n",
       "      <td>9.60</td>\n",
       "    </tr>\n",
       "    <tr>\n",
       "      <th>3439</th>\n",
       "      <td>NC</td>\n",
       "      <td>Yadkin County</td>\n",
       "      <td>249.99</td>\n",
       "      <td>3.76</td>\n",
       "    </tr>\n",
       "    <tr>\n",
       "      <th>3440</th>\n",
       "      <td>NC</td>\n",
       "      <td>Yadkin County</td>\n",
       "      <td>289.80</td>\n",
       "      <td>NaN</td>\n",
       "    </tr>\n",
       "    <tr>\n",
       "      <th>3441</th>\n",
       "      <td>NC</td>\n",
       "      <td>Yancey County</td>\n",
       "      <td>110.14</td>\n",
       "      <td>NaN</td>\n",
       "    </tr>\n",
       "    <tr>\n",
       "      <th>3442</th>\n",
       "      <td>NC</td>\n",
       "      <td>Yancey County</td>\n",
       "      <td>98.63</td>\n",
       "      <td>NaN</td>\n",
       "    </tr>\n",
       "  </tbody>\n",
       "</table>\n",
       "<p>200 rows × 4 columns</p>\n",
       "</div>"
      ],
      "text/plain": [
       "     State            County  Violent crime  Homicide rate\n",
       "3243    NC   Alamance County         426.16           4.94\n",
       "3244    NC   Alamance County         420.93           4.60\n",
       "3245    NC  Alexander County         161.90           6.27\n",
       "3246    NC  Alexander County         142.45           7.20\n",
       "3247    NC  Alleghany County            NaN            NaN\n",
       "...    ...               ...            ...            ...\n",
       "3438    NC     Wilson County         420.88           9.60\n",
       "3439    NC     Yadkin County         249.99           3.76\n",
       "3440    NC     Yadkin County         289.80            NaN\n",
       "3441    NC     Yancey County         110.14            NaN\n",
       "3442    NC     Yancey County          98.63            NaN\n",
       "\n",
       "[200 rows x 4 columns]"
      ]
     },
     "execution_count": 39,
     "metadata": {},
     "output_type": "execute_result"
    }
   ],
   "source": [
    "df2[[\"State\", \"County\", \"Violent crime\", \"Homicide rate\"]]"
   ]
  },
  {
   "cell_type": "markdown",
   "id": "514ff4ec-0914-4c90-a80e-44da54fb8f61",
   "metadata": {},
   "source": [
    "## Step 5\n",
    "### Now we want to make this subset of data into its own table for export to .csv for future recall. To do this, we will input the following code\n",
    "**VC_to_HR_in_NC_subset=df2[[\"State\", \"County\", \"Violent crime\", \"Homicide rate\"]].copy()**"
   ]
  },
  {
   "cell_type": "code",
   "execution_count": 40,
   "id": "b6a0cfa7-902d-459d-a009-0e168fc1a93c",
   "metadata": {},
   "outputs": [],
   "source": [
    "VC_to_HR_in_NC_subset=df2[[\"State\", \"County\", \"Violent crime\", \"Homicide rate\"]].copy()"
   ]
  },
  {
   "cell_type": "markdown",
   "id": "367a4275-8af5-418f-83a7-4b1e4f40be3b",
   "metadata": {},
   "source": [
    "## Step 6\n",
    "### Finally we will want to export this table as a .csv file. We will do this with the final code:\n",
    "**VC_to_HR_in_NC_subset.to_csv(\"ViolentCrime-HomicideRate-inNorthCarolina.csv\",index=False**"
   ]
  },
  {
   "cell_type": "code",
   "execution_count": 41,
   "id": "b1e6d383-ec4a-463e-8e0d-48c083587d0e",
   "metadata": {},
   "outputs": [],
   "source": [
    "VC_to_HR_in_NC_subset.to_csv(\"ViolentCrime-HomicideRate-inNorthCarolina.csv\",index=False)"
   ]
  },
  {
   "cell_type": "code",
   "execution_count": null,
   "id": "22873cc3-0043-4dd0-8e21-0397804ef723",
   "metadata": {},
   "outputs": [],
   "source": []
  }
 ],
 "metadata": {
  "kernelspec": {
   "display_name": "Python 3 (ipykernel)",
   "language": "python",
   "name": "python3"
  },
  "language_info": {
   "codemirror_mode": {
    "name": "ipython",
    "version": 3
   },
   "file_extension": ".py",
   "mimetype": "text/x-python",
   "name": "python",
   "nbconvert_exporter": "python",
   "pygments_lexer": "ipython3",
   "version": "3.9.13"
  }
 },
 "nbformat": 4,
 "nbformat_minor": 5
}
